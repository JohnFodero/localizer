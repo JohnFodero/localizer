{
 "cells": [
  {
   "cell_type": "code",
   "execution_count": 1,
   "metadata": {
    "collapsed": true
   },
   "outputs": [],
   "source": [
    "%load_ext autoreload"
   ]
  },
  {
   "cell_type": "code",
   "execution_count": 2,
   "metadata": {},
   "outputs": [
    {
     "name": "stderr",
     "output_type": "stream",
     "text": [
      "Using TensorFlow backend.\n"
     ]
    }
   ],
   "source": [
    "import os\n",
    "import csv\n",
    "import cv2\n",
    "from localizer import *\n",
    "from models import *\n",
    "from keras.models import *\n",
    "from keras.layers import *\n",
    "from keras import callbacks\n",
    "%matplotlib inline\n",
    "import matplotlib.pyplot as plt\n",
    "import matplotlib.patches as patches\n",
    "import matplotlib.cm as cm\n",
    "import h5py\n",
    "%autoreload"
   ]
  },
  {
   "cell_type": "markdown",
   "metadata": {},
   "source": [
    "Load Data"
   ]
  },
  {
   "cell_type": "code",
   "execution_count": 65,
   "metadata": {
    "collapsed": true
   },
   "outputs": [],
   "source": [
    "def split_dataset(X, ratio=0.8):\n",
    "    cutoff = int(ratio * len(X))\n",
    "    return X[:cutoff], X[cutoff:]\n",
    "def preprocess_image(image):\n",
    "    # resize 224 x 224 x 3\n",
    "    image = cv2.resize(image, (224, 224))\n",
    "    \n",
    "    image = image.astype('float32')\n",
    "    image /= 255.\n",
    "    return image\n",
    "def scale_rssi(rssi):\n",
    "    return (rssi + 100) * (1./70.)\n",
    "def scale_xy(mapped_values):\n",
    "    return (mapped_values -10.1) * (1./(59.8-10.1))"
   ]
  },
  {
   "cell_type": "code",
   "execution_count": 4,
   "metadata": {},
   "outputs": [
    {
     "name": "stdout",
     "output_type": "stream",
     "text": [
      "Loaded profile: test_prof\n",
      "----------------------------------------\n",
      "Localizer\n",
      "Wifi Device: wlp3s0\n",
      "Profile: test_prof Length: 12\n",
      "Routers:\n",
      "    36168625175133\n",
      "    260453955621904\n",
      "    48751578567808\n",
      "    260453955621905\n",
      "    260453955621907\n",
      "    260453955621906\n",
      "    198414853646229\n",
      "    13640875210499\n",
      "    13640875210498\n",
      "    13640875216819\n",
      "    13640875216818\n",
      "    260453955572402\n",
      "----------------------------------------\n"
     ]
    }
   ],
   "source": [
    "lab_localizer = localizer()\n",
    "lab_localizer.load_profile('test_prof')\n",
    "print(lab_localizer)"
   ]
  },
  {
   "cell_type": "code",
   "execution_count": 5,
   "metadata": {},
   "outputs": [
    {
     "name": "stdout",
     "output_type": "stream",
     "text": [
      "-- loading from 2017-07-17_11:28\n",
      "Loaded 1 files from ../datasets/\n",
      "{(1.0, 0.40442655935613692): 0, (0.0, 0.40442655935613692): 1, (1.0, 0.014084507042253546): 3, (0.0, 0.014084507042253546): 2}\n",
      "(640, 4)\n",
      "(160, 4)\n"
     ]
    }
   ],
   "source": [
    "def load_data(path, profile=None):\n",
    "    wifi = []   # (len, num_cells_in_profile)\n",
    "    mag = []    # (len, 2)\n",
    "    img = []    # (len, 2, imgx, imgy, imgd)\n",
    "    xy = []     # (len, 2)\n",
    "    file_count = 0\n",
    "    if profile is not None:\n",
    "        for file_name in os.listdir(path):\n",
    "            if os.path.isfile(path + file_name):\n",
    "                print('-- loading from {}'.format(file_name))\n",
    "                with open(path + file_name, 'r') as f:\n",
    "                    reader = csv.reader(f)\n",
    "                    for row in reader:\n",
    "                        xy.append([float(row[0]), float(row[1])])\n",
    "                        xy.append([float(row[0]), float(row[1])])\n",
    "                        mag.append([float(row[2]), float(row[3])])\n",
    "                        mag.append([float(row[2]), float(row[3])])\n",
    "                        img1 = cv2.imread(row[5])\n",
    "                        img1 = preprocess_image(img1)\n",
    "                        img2 = cv2.imread(row[6])\n",
    "                        img2 = preprocess_image(img2)\n",
    "                        img.append(img1)\n",
    "                        img.append(img2)\n",
    "                        count = 0\n",
    "                        wifi_row = []\n",
    "                        for addr in profile:\n",
    "                            for cell in row[7:]:\n",
    "                                mac, rssi = cell.split(' ')\n",
    "                                if addr == mac:\n",
    "                                    wifi_row.append(scale_rssi(float(rssi)))\n",
    "                                    break\n",
    "                            else:\n",
    "                                wifi_row.append(scale_rssi(-100.0))\n",
    "                        wifi.append(wifi_row)\n",
    "                        wifi.append(wifi_row)\n",
    "                file_count += 1\n",
    "        print('Loaded {} files from {}'.format(file_count, path))\n",
    "        return np.array(wifi), np.array(mag), np.float32(img), np.array(xy)\n",
    "        \n",
    "wifi, mag, images, y = load_data('../datasets/', lab_localizer.profile)\n",
    "mag = mag[:,0]\n",
    "p = np.random.permutation(len(y))\n",
    "wifi, mag, images, y = wifi[p], mag[p], images[p], y[p]\n",
    "# scale mag\n",
    "mag /= 360.\n",
    "# scale outputs\n",
    "y = scale_xy(y)\n",
    "wifi_train, wifi_test = split_dataset(wifi)\n",
    "mag_train, mag_test = split_dataset(mag)\n",
    "\n",
    "# CONVERT Y TO 4 DIFFERENT CLASSES\n",
    "class_dict = {}\n",
    "count = 0\n",
    "for item in y:\n",
    "    try:\n",
    "        class_dict[tuple(item)]\n",
    "    except:\n",
    "        class_dict[tuple(item)] = count\n",
    "        count += 1\n",
    "print(class_dict)\n",
    "y_cls = np.zeros((y.shape[0], len(class_dict)))\n",
    "for i in range(len(y)):\n",
    "    y_cls[i, class_dict[tuple(y[i])]] = 1\n",
    "    \n",
    "y_cls_train, y_cls_test = split_dataset(y_cls)\n",
    "print(y_cls_train.shape)\n",
    "print(y_cls_test.shape)\n",
    "\n",
    "# BLACKOUT IMAGES FOR TESTING\n",
    "#images = np.zeros((800, 224, 224, 3))\n",
    "#\n",
    "images_train, images_test = split_dataset(images)\n",
    "y_train, y_test = split_dataset(y)\n"
   ]
  },
  {
   "cell_type": "code",
   "execution_count": 66,
   "metadata": {},
   "outputs": [
    {
     "ename": "TypeError",
     "evalue": "ufunc 'true_divide' output (typecode 'd') could not be coerced to provided output parameter (typecode 'B') according to the casting rule ''same_kind''",
     "output_type": "error",
     "traceback": [
      "\u001b[0;31m---------------------------------------------------------------------------\u001b[0m",
      "\u001b[0;31mTypeError\u001b[0m                                 Traceback (most recent call last)",
      "\u001b[0;32m<ipython-input-66-725d9c6a83ce>\u001b[0m in \u001b[0;36m<module>\u001b[0;34m()\u001b[0m\n\u001b[1;32m      1\u001b[0m \u001b[0;32mfrom\u001b[0m \u001b[0mkeras\u001b[0m\u001b[0;34m.\u001b[0m\u001b[0mpreprocessing\u001b[0m\u001b[0;34m.\u001b[0m\u001b[0mimage\u001b[0m \u001b[0;32mimport\u001b[0m \u001b[0mImageDataGenerator\u001b[0m\u001b[0;34m\u001b[0m\u001b[0m\n\u001b[1;32m      2\u001b[0m \u001b[0;34m\u001b[0m\u001b[0m\n\u001b[0;32m----> 3\u001b[0;31m \u001b[0mduck\u001b[0m \u001b[0;34m=\u001b[0m \u001b[0mpreprocess_image\u001b[0m\u001b[0;34m(\u001b[0m\u001b[0mcv2\u001b[0m\u001b[0;34m.\u001b[0m\u001b[0mcvtColor\u001b[0m\u001b[0;34m(\u001b[0m\u001b[0mcv2\u001b[0m\u001b[0;34m.\u001b[0m\u001b[0mimread\u001b[0m\u001b[0;34m(\u001b[0m\u001b[0;34m'../test_images/duck.jpg'\u001b[0m\u001b[0;34m)\u001b[0m\u001b[0;34m,\u001b[0m \u001b[0mcv2\u001b[0m\u001b[0;34m.\u001b[0m\u001b[0mCOLOR_BGR2RGB\u001b[0m\u001b[0;34m)\u001b[0m\u001b[0;34m)\u001b[0m\u001b[0;34m\u001b[0m\u001b[0m\n\u001b[0m\u001b[1;32m      4\u001b[0m \u001b[0mtiger\u001b[0m \u001b[0;34m=\u001b[0m \u001b[0mcv2\u001b[0m\u001b[0;34m.\u001b[0m\u001b[0mcvtColor\u001b[0m\u001b[0;34m(\u001b[0m\u001b[0mcv2\u001b[0m\u001b[0;34m.\u001b[0m\u001b[0mimread\u001b[0m\u001b[0;34m(\u001b[0m\u001b[0;34m'../test_images/tiger.jpg'\u001b[0m\u001b[0;34m)\u001b[0m\u001b[0;34m,\u001b[0m \u001b[0mcv2\u001b[0m\u001b[0;34m.\u001b[0m\u001b[0mCOLOR_BGR2RGB\u001b[0m\u001b[0;34m)\u001b[0m \u001b[0;34m/\u001b[0m \u001b[0;36m255.\u001b[0m\u001b[0;34m\u001b[0m\u001b[0m\n\u001b[1;32m      5\u001b[0m \u001b[0mbeach\u001b[0m \u001b[0;34m=\u001b[0m \u001b[0mcv2\u001b[0m\u001b[0;34m.\u001b[0m\u001b[0mcvtColor\u001b[0m\u001b[0;34m(\u001b[0m\u001b[0mcv2\u001b[0m\u001b[0;34m.\u001b[0m\u001b[0mimread\u001b[0m\u001b[0;34m(\u001b[0m\u001b[0;34m'../test_images/beach.jpeg'\u001b[0m\u001b[0;34m)\u001b[0m\u001b[0;34m,\u001b[0m \u001b[0mcv2\u001b[0m\u001b[0;34m.\u001b[0m\u001b[0mCOLOR_BGR2RGB\u001b[0m\u001b[0;34m)\u001b[0m \u001b[0;34m/\u001b[0m \u001b[0;36m255.\u001b[0m\u001b[0;34m\u001b[0m\u001b[0m\n",
      "\u001b[0;32m<ipython-input-65-7d0400180538>\u001b[0m in \u001b[0;36mpreprocess_image\u001b[0;34m(image)\u001b[0m\n\u001b[1;32m      5\u001b[0m     \u001b[0;31m# resize 244 x 244 x 3\u001b[0m\u001b[0;34m\u001b[0m\u001b[0;34m\u001b[0m\u001b[0m\n\u001b[1;32m      6\u001b[0m     \u001b[0mimage\u001b[0m \u001b[0;34m=\u001b[0m \u001b[0mcv2\u001b[0m\u001b[0;34m.\u001b[0m\u001b[0mresize\u001b[0m\u001b[0;34m(\u001b[0m\u001b[0mimage\u001b[0m\u001b[0;34m,\u001b[0m \u001b[0;34m(\u001b[0m\u001b[0;36m224\u001b[0m\u001b[0;34m,\u001b[0m \u001b[0;36m224\u001b[0m\u001b[0;34m)\u001b[0m\u001b[0;34m)\u001b[0m\u001b[0;34m\u001b[0m\u001b[0m\n\u001b[0;32m----> 7\u001b[0;31m     \u001b[0mimage\u001b[0m \u001b[0;34m/=\u001b[0m \u001b[0;36m255.\u001b[0m\u001b[0;34m\u001b[0m\u001b[0m\n\u001b[0m\u001b[1;32m      8\u001b[0m     \u001b[0mimage\u001b[0m \u001b[0;34m=\u001b[0m \u001b[0mimage\u001b[0m\u001b[0;34m.\u001b[0m\u001b[0mastype\u001b[0m\u001b[0;34m(\u001b[0m\u001b[0;34m'float32'\u001b[0m\u001b[0;34m)\u001b[0m\u001b[0;34m\u001b[0m\u001b[0m\n\u001b[1;32m      9\u001b[0m     \u001b[0;32mreturn\u001b[0m \u001b[0mimage\u001b[0m\u001b[0;34m\u001b[0m\u001b[0m\n",
      "\u001b[0;31mTypeError\u001b[0m: ufunc 'true_divide' output (typecode 'd') could not be coerced to provided output parameter (typecode 'B') according to the casting rule ''same_kind''"
     ]
    }
   ],
   "source": [
    "from keras.preprocessing.image import ImageDataGenerator\n",
    "\n",
    "duck = preprocess_image(cv2.cvtColor(cv2.imread('../test_images/duck.jpg'), cv2.COLOR_BGR2RGB))\n",
    "tiger = cv2.cvtColor(cv2.imread('../test_images/tiger.jpg'), cv2.COLOR_BGR2RGB) / 255.\n",
    "beach = cv2.cvtColor(cv2.imread('../test_images/beach.jpeg'), cv2.COLOR_BGR2RGB) / 255.\n",
    "mountain = cv2.cvtColor(cv2.imread('../test_images/mountain.jpeg'), cv2.COLOR_BGR2RGB) / 255.\n",
    "plt.imshow(duck)\n",
    "X = np.array([duck, tiger, beach, mountain])\n",
    "\n",
    "datagen = ImageDataGenerator(\n",
    "    featurewise_center=True,\n",
    "    featurewise_std_normalization=True,\n",
    "    zca_whitening=True,\n",
    "    rotation_range=90,\n",
    "    width_shift_range=0.5,\n",
    "    height_shift_range=0.5,\n",
    "    zoom_range=1,\n",
    "    horizontal_flip=False,\n",
    "    vertical_flip=False)\n",
    "\n"
   ]
  },
  {
   "cell_type": "markdown",
   "metadata": {},
   "source": [
    "Train"
   ]
  },
  {
   "cell_type": "code",
   "execution_count": 104,
   "metadata": {
    "collapsed": true
   },
   "outputs": [],
   "source": [
    "from keras.applications.vgg16 import VGG16\n",
    "from keras.preprocessing import image\n",
    "from keras.applications.vgg16 import preprocess_input"
   ]
  },
  {
   "cell_type": "code",
   "execution_count": 105,
   "metadata": {},
   "outputs": [
    {
     "name": "stdout",
     "output_type": "stream",
     "text": [
      "_________________________________________________________________\n",
      "Layer (type)                 Output Shape              Param #   \n",
      "=================================================================\n",
      "input_116 (InputLayer)       (None, None, None, 3)     0         \n",
      "_________________________________________________________________\n",
      "block1_conv1 (Conv2D)        (None, None, None, 64)    1792      \n",
      "_________________________________________________________________\n",
      "block1_conv2 (Conv2D)        (None, None, None, 64)    36928     \n",
      "_________________________________________________________________\n",
      "block1_pool (MaxPooling2D)   (None, None, None, 64)    0         \n",
      "_________________________________________________________________\n",
      "block2_conv1 (Conv2D)        (None, None, None, 128)   73856     \n",
      "_________________________________________________________________\n",
      "block2_conv2 (Conv2D)        (None, None, None, 128)   147584    \n",
      "_________________________________________________________________\n",
      "block2_pool (MaxPooling2D)   (None, None, None, 128)   0         \n",
      "_________________________________________________________________\n",
      "block3_conv1 (Conv2D)        (None, None, None, 256)   295168    \n",
      "_________________________________________________________________\n",
      "block3_conv2 (Conv2D)        (None, None, None, 256)   590080    \n",
      "_________________________________________________________________\n",
      "block3_conv3 (Conv2D)        (None, None, None, 256)   590080    \n",
      "_________________________________________________________________\n",
      "block3_pool (MaxPooling2D)   (None, None, None, 256)   0         \n",
      "_________________________________________________________________\n",
      "block4_conv1 (Conv2D)        (None, None, None, 512)   1180160   \n",
      "_________________________________________________________________\n",
      "block4_conv2 (Conv2D)        (None, None, None, 512)   2359808   \n",
      "_________________________________________________________________\n",
      "block4_conv3 (Conv2D)        (None, None, None, 512)   2359808   \n",
      "_________________________________________________________________\n",
      "block4_pool (MaxPooling2D)   (None, None, None, 512)   0         \n",
      "_________________________________________________________________\n",
      "block5_conv1 (Conv2D)        (None, None, None, 512)   2359808   \n",
      "_________________________________________________________________\n",
      "block5_conv2 (Conv2D)        (None, None, None, 512)   2359808   \n",
      "_________________________________________________________________\n",
      "block5_conv3 (Conv2D)        (None, None, None, 512)   2359808   \n",
      "_________________________________________________________________\n",
      "block5_pool (MaxPooling2D)   (None, None, None, 512)   0         \n",
      "=================================================================\n",
      "Total params: 14,714,688\n",
      "Trainable params: 0\n",
      "Non-trainable params: 14,714,688\n",
      "_________________________________________________________________\n"
     ]
    }
   ],
   "source": [
    "vgg = VGG16(weights='imagenet', include_top=False)\n",
    "vgg.trainable = False\n",
    "\n",
    "vgg.summary()\n",
    "images_train = preprocess_input(images_train)\n",
    "images_test = preprocess_input(images_test)\n",
    "\n",
    "#features = model.predict(images_train)"
   ]
  },
  {
   "cell_type": "code",
   "execution_count": 106,
   "metadata": {},
   "outputs": [
    {
     "name": "stdout",
     "output_type": "stream",
     "text": [
      "160\n"
     ]
    }
   ],
   "source": [
    "img_input2 = Input(shape=(224, 224, 3), dtype='float32')\n",
    "out2 = vgg(img_input2)\n",
    "tvgg = Model(img_input2, out2)\n",
    "preds = tvgg.predict(images_test)\n",
    "print(len(preds))\n",
    "unique = []\n",
    "for item in preds:\n",
    "    if str(item) not in unique:\n",
    "        unique.append(str(item))\n",
    "        "
   ]
  },
  {
   "cell_type": "code",
   "execution_count": 107,
   "metadata": {},
   "outputs": [
    {
     "name": "stdout",
     "output_type": "stream",
     "text": [
      "____________________________________________________________________________________________________\n",
      "Layer (type)                     Output Shape          Param #     Connected to                     \n",
      "====================================================================================================\n",
      "input_120 (InputLayer)           (None, 224, 224, 3)   0                                            \n",
      "____________________________________________________________________________________________________\n",
      "vgg16 (Model)                    multiple              14714688    input_120[0][0]                  \n",
      "____________________________________________________________________________________________________\n",
      "input_118 (InputLayer)           (None, 12)            0                                            \n",
      "____________________________________________________________________________________________________\n",
      "input_119 (InputLayer)           (None, 1)             0                                            \n",
      "____________________________________________________________________________________________________\n",
      "flatten_35 (Flatten)             (None, 25088)         0           vgg16[2][0]                      \n",
      "____________________________________________________________________________________________________\n",
      "concatenate_35 (Concatenate)     (None, 25101)         0           input_118[0][0]                  \n",
      "                                                                   input_119[0][0]                  \n",
      "                                                                   flatten_35[0][0]                 \n",
      "____________________________________________________________________________________________________\n",
      "dense_171 (Dense)                (None, 16)            401632      concatenate_35[0][0]             \n",
      "____________________________________________________________________________________________________\n",
      "dense_172 (Dense)                (None, 16)            272         dense_171[0][0]                  \n",
      "____________________________________________________________________________________________________\n",
      "dense_173 (Dense)                (None, 16)            272         dense_172[0][0]                  \n",
      "____________________________________________________________________________________________________\n",
      "dense_174 (Dense)                (None, 16)            272         dense_173[0][0]                  \n",
      "____________________________________________________________________________________________________\n",
      "dense_175 (Dense)                (None, 16)            272         dense_174[0][0]                  \n",
      "____________________________________________________________________________________________________\n",
      "dense_176 (Dense)                (None, 16)            272         dense_175[0][0]                  \n",
      "____________________________________________________________________________________________________\n",
      "dense_177 (Dense)                (None, 4)             68          dense_176[0][0]                  \n",
      "====================================================================================================\n",
      "Total params: 15,117,748\n",
      "Trainable params: 403,060\n",
      "Non-trainable params: 14,714,688\n",
      "____________________________________________________________________________________________________\n",
      "None\n"
     ]
    }
   ],
   "source": [
    "\n",
    "# define model inputs\n",
    "wifi_input = Input(shape=(12,), dtype='float32')\n",
    "mag_input = Input(shape=(1,), dtype='float32')\n",
    "img_input = Input(shape=(224, 224, 3), dtype='float32')\n",
    "\n",
    "wifi_branch = Dense(64, activation='relu')(wifi_input)\n",
    "\n",
    "mag_branch = Dense(16, activation='relu')(mag_input)\n",
    "\n",
    "img_branch = vgg(img_input)\n",
    "img_branch = Flatten()(img_branch)\n",
    "#img_branch = Dense(50, activation='relu')(img_branch)\n",
    "#merged = concatenate([wifi_branch, mag_branch, img_branch], axis=-1)\n",
    "merged = concatenate([wifi_input, mag_input, img_branch], axis=-1)\n",
    "merged = Dense(16, activation='relu')(merged)\n",
    "merged = Dense(16, activation='relu')(merged)\n",
    "merged = Dense(16, activation='relu')(merged)\n",
    "merged = Dense(16, activation='relu')(merged)\n",
    "merged = Dense(16, activation='relu')(merged)\n",
    "merged = Dense(16, activation='relu')(merged)\n",
    "#out = Dense(2, activation='linear')(merged)\n",
    "out = Dense(4, activation='softmax')(merged)\n",
    "\n",
    "#model = Model([wifi_input, mag_input, img_input], out)\n",
    "model = Model([wifi_input, mag_input, img_input], out)\n",
    "\n",
    "#model.compile(optimizer='rmsprop', loss='mse')\n",
    "model.compile(optimizer='rmsprop', loss='categorical_crossentropy', metrics=['accuracy'])\n",
    "print(model.summary())"
   ]
  },
  {
   "cell_type": "code",
   "execution_count": 108,
   "metadata": {},
   "outputs": [
    {
     "data": {
      "text/plain": [
       "<matplotlib.image.AxesImage at 0x7f51424b5a58>"
      ]
     },
     "execution_count": 108,
     "metadata": {},
     "output_type": "execute_result"
    },
    {
     "data": {
      "image/png": "[encoded data removed]",
      "text/plain": [
       "<matplotlib.figure.Figure at 0x7f5142f897f0>"
      ]
     },
     "metadata": {},
     "output_type": "display_data"
    }
   ],
   "source": [
    "plt.imshow(images_train[226])"
   ]
  },
  {
   "cell_type": "code",
   "execution_count": 109,
   "metadata": {},
   "outputs": [
    {
     "name": "stdout",
     "output_type": "stream",
     "text": [
      "Train on 576 samples, validate on 64 samples\n",
      "Epoch 1/100\n",
      "550/576 [===========================>..] - ETA: 0s - loss: 1.4019 - acc: 0.2364Epoch 00000: val_loss improved from inf to 1.38086, saving model to ../models/test_model/test_model.hdf5\n",
      "576/576 [==============================] - 4s - loss: 1.4017 - acc: 0.2344 - val_loss: 1.3809 - val_acc: 0.2656\n",
      "Epoch 2/100\n",
      "550/576 [===========================>..] - ETA: 0s - loss: 1.3914 - acc: 0.2564Epoch 00001: val_loss did not improve\n",
      "576/576 [==============================] - 3s - loss: 1.3914 - acc: 0.2552 - val_loss: 1.3883 - val_acc: 0.2031\n",
      "Epoch 3/100\n",
      "550/576 [===========================>..] - ETA: 0s - loss: 1.3893 - acc: 0.2345Epoch 00002: val_loss did not improve\n",
      "576/576 [==============================] - 3s - loss: 1.3891 - acc: 0.2361 - val_loss: 1.3862 - val_acc: 0.2031\n",
      "Epoch 4/100\n",
      "550/576 [===========================>..] - ETA: 0s - loss: 1.3860 - acc: 0.2527Epoch 00003: val_loss did not improve\n",
      "576/576 [==============================] - 3s - loss: 1.3864 - acc: 0.2483 - val_loss: 1.3860 - val_acc: 0.2031\n",
      "Epoch 5/100\n",
      "550/576 [===========================>..] - ETA: 0s - loss: 1.3866 - acc: 0.2418Epoch 00004: val_loss did not improve\n",
      "576/576 [==============================] - 3s - loss: 1.3864 - acc: 0.2483 - val_loss: 1.3859 - val_acc: 0.2031\n",
      "Epoch 6/100\n",
      "550/576 [===========================>..] - ETA: 0s - loss: 1.3866 - acc: 0.2418Epoch 00005: val_loss did not improve\n",
      "576/576 [==============================] - 3s - loss: 1.3864 - acc: 0.2483 - val_loss: 1.3859 - val_acc: 0.2031\n",
      "Epoch 7/100\n",
      "550/576 [===========================>..] - ETA: 0s - loss: 1.3863 - acc: 0.2473Epoch 00006: val_loss did not improve\n",
      "576/576 [==============================] - 3s - loss: 1.3863 - acc: 0.2483 - val_loss: 1.3860 - val_acc: 0.2031\n",
      "160/160 [==============================] - 0s     \n",
      "[1.3875588104128838, 0.27500000782310963]\n"
     ]
    }
   ],
   "source": [
    "epochs=100\n",
    "batch_size=50\n",
    "\n",
    "model_name = 'test_model'\n",
    "if not os.path.exists('../models/' + model_name):\n",
    "    os.makedirs('../models/' + model_name)\n",
    "\n",
    "#Save the model after each epoch if the validation loss improved.\n",
    "save_best = callbacks.ModelCheckpoint('../models/' + model_name + '/' + model_name + '.hdf5', monitor='val_loss', verbose=1, \n",
    "                                     save_best_only=True, mode='min')\n",
    "\n",
    "#stop training if the validation loss doesn't improve for 5 consecutive epochs.\n",
    "early_stop = callbacks.EarlyStopping(monitor='val_loss', min_delta=0, patience=5, \n",
    "                                     verbose=0, mode='auto')\n",
    "\n",
    "callbacks_list = [save_best, early_stop]\n",
    "\n",
    "model.fit([wifi_train, mag_train, images_train], y_cls_train, epochs=epochs, batch_size=batch_size, validation_split=0.1, callbacks=callbacks_list)\n",
    "print(model.evaluate([wifi_test, mag_test, images_test], y_cls_test, batch_size=batch_size))\n"
   ]
  },
  {
   "cell_type": "code",
   "execution_count": 25,
   "metadata": {},
   "outputs": [
    {
     "ename": "ImportError",
     "evalue": "Failed to import pydot. You must install pydot and graphviz for `pydotprint` to work.",
     "output_type": "error",
     "traceback": [
      "\u001b[0;31m---------------------------------------------------------------------------\u001b[0m",
      "\u001b[0;31mFileNotFoundError\u001b[0m                         Traceback (most recent call last)",
      "\u001b[0;32m~/tensorflow/local/lib/python3.4/site-packages/pydot.py\u001b[0m in \u001b[0;36mcreate\u001b[0;34m(self, prog, format)\u001b[0m\n\u001b[1;32m   1877\u001b[0m                 \u001b[0mshell\u001b[0m\u001b[0;34m=\u001b[0m\u001b[0;32mFalse\u001b[0m\u001b[0;34m,\u001b[0m\u001b[0;34m\u001b[0m\u001b[0m\n\u001b[0;32m-> 1878\u001b[0;31m                 stderr=subprocess.PIPE, stdout=subprocess.PIPE)\n\u001b[0m\u001b[1;32m   1879\u001b[0m         \u001b[0;32mexcept\u001b[0m \u001b[0mOSError\u001b[0m \u001b[0;32mas\u001b[0m \u001b[0me\u001b[0m\u001b[0;34m:\u001b[0m\u001b[0;34m\u001b[0m\u001b[0m\n",
      "\u001b[0;32m/usr/lib/python3.4/subprocess.py\u001b[0m in \u001b[0;36m__init__\u001b[0;34m(self, args, bufsize, executable, stdin, stdout, stderr, preexec_fn, close_fds, shell, cwd, env, universal_newlines, startupinfo, creationflags, restore_signals, start_new_session, pass_fds)\u001b[0m\n\u001b[1;32m    858\u001b[0m                                 \u001b[0merrread\u001b[0m\u001b[0;34m,\u001b[0m \u001b[0merrwrite\u001b[0m\u001b[0;34m,\u001b[0m\u001b[0;34m\u001b[0m\u001b[0m\n\u001b[0;32m--> 859\u001b[0;31m                                 restore_signals, start_new_session)\n\u001b[0m\u001b[1;32m    860\u001b[0m         \u001b[0;32mexcept\u001b[0m\u001b[0;34m:\u001b[0m\u001b[0;34m\u001b[0m\u001b[0m\n",
      "\u001b[0;32m/usr/lib/python3.4/subprocess.py\u001b[0m in \u001b[0;36m_execute_child\u001b[0;34m(self, args, executable, preexec_fn, close_fds, pass_fds, cwd, env, startupinfo, creationflags, shell, p2cread, p2cwrite, c2pread, c2pwrite, errread, errwrite, restore_signals, start_new_session)\u001b[0m\n\u001b[1;32m   1456\u001b[0m                                 \u001b[0merr_msg\u001b[0m \u001b[0;34m+=\u001b[0m \u001b[0;34m': '\u001b[0m \u001b[0;34m+\u001b[0m \u001b[0mrepr\u001b[0m\u001b[0;34m(\u001b[0m\u001b[0morig_executable\u001b[0m\u001b[0;34m)\u001b[0m\u001b[0;34m\u001b[0m\u001b[0m\n\u001b[0;32m-> 1457\u001b[0;31m                     \u001b[0;32mraise\u001b[0m \u001b[0mchild_exception_type\u001b[0m\u001b[0;34m(\u001b[0m\u001b[0merrno_num\u001b[0m\u001b[0;34m,\u001b[0m \u001b[0merr_msg\u001b[0m\u001b[0;34m)\u001b[0m\u001b[0;34m\u001b[0m\u001b[0m\n\u001b[0m\u001b[1;32m   1458\u001b[0m                 \u001b[0;32mraise\u001b[0m \u001b[0mchild_exception_type\u001b[0m\u001b[0;34m(\u001b[0m\u001b[0merr_msg\u001b[0m\u001b[0;34m)\u001b[0m\u001b[0;34m\u001b[0m\u001b[0m\n",
      "\u001b[0;31mFileNotFoundError\u001b[0m: [Errno 2] No such file or directory: 'dot'",
      "\nDuring handling of the above exception, another exception occurred:\n",
      "\u001b[0;31mException\u001b[0m                                 Traceback (most recent call last)",
      "\u001b[0;32m~/tensorflow/local/lib/python3.4/site-packages/keras/utils/vis_utils.py\u001b[0m in \u001b[0;36m_check_pydot\u001b[0;34m()\u001b[0m\n\u001b[1;32m     22\u001b[0m         \u001b[0;31m# to check the pydot/graphviz installation.\u001b[0m\u001b[0;34m\u001b[0m\u001b[0;34m\u001b[0m\u001b[0m\n\u001b[0;32m---> 23\u001b[0;31m         \u001b[0mpydot\u001b[0m\u001b[0;34m.\u001b[0m\u001b[0mDot\u001b[0m\u001b[0;34m.\u001b[0m\u001b[0mcreate\u001b[0m\u001b[0;34m(\u001b[0m\u001b[0mpydot\u001b[0m\u001b[0;34m.\u001b[0m\u001b[0mDot\u001b[0m\u001b[0;34m(\u001b[0m\u001b[0;34m)\u001b[0m\u001b[0;34m)\u001b[0m\u001b[0;34m\u001b[0m\u001b[0m\n\u001b[0m\u001b[1;32m     24\u001b[0m     \u001b[0;32mexcept\u001b[0m \u001b[0mException\u001b[0m\u001b[0;34m:\u001b[0m\u001b[0;34m\u001b[0m\u001b[0m\n",
      "\u001b[0;32m~/tensorflow/local/lib/python3.4/site-packages/pydot.py\u001b[0m in \u001b[0;36mcreate\u001b[0;34m(self, prog, format)\u001b[0m\n\u001b[1;32m   1882\u001b[0m                     '\"{prog}\" not found in path.'.format(\n\u001b[0;32m-> 1883\u001b[0;31m                         prog=prog))\n\u001b[0m\u001b[1;32m   1884\u001b[0m             \u001b[0;32melse\u001b[0m\u001b[0;34m:\u001b[0m\u001b[0;34m\u001b[0m\u001b[0m\n",
      "\u001b[0;31mException\u001b[0m: \"dot\" not found in path.",
      "\nDuring handling of the above exception, another exception occurred:\n",
      "\u001b[0;31mImportError\u001b[0m                               Traceback (most recent call last)",
      "\u001b[0;32m<ipython-input-25-437440fcd987>\u001b[0m in \u001b[0;36m<module>\u001b[0;34m()\u001b[0m\n\u001b[1;32m      1\u001b[0m \u001b[0;32mfrom\u001b[0m \u001b[0mkeras\u001b[0m\u001b[0;34m.\u001b[0m\u001b[0mutils\u001b[0m \u001b[0;32mimport\u001b[0m \u001b[0mplot_model\u001b[0m\u001b[0;34m\u001b[0m\u001b[0m\n\u001b[0;32m----> 2\u001b[0;31m \u001b[0mplot_model\u001b[0m\u001b[0;34m(\u001b[0m\u001b[0mmodel\u001b[0m\u001b[0;34m,\u001b[0m \u001b[0mto_file\u001b[0m\u001b[0;34m=\u001b[0m\u001b[0;34m'model.png'\u001b[0m\u001b[0;34m)\u001b[0m\u001b[0;34m\u001b[0m\u001b[0m\n\u001b[0m",
      "\u001b[0;32m~/tensorflow/local/lib/python3.4/site-packages/keras/utils/vis_utils.py\u001b[0m in \u001b[0;36mplot_model\u001b[0;34m(model, to_file, show_shapes, show_layer_names, rankdir)\u001b[0m\n\u001b[1;32m    129\u001b[0m             \u001b[0;34m'LR'\u001b[0m \u001b[0mcreates\u001b[0m \u001b[0ma\u001b[0m \u001b[0mhorizontal\u001b[0m \u001b[0mplot\u001b[0m\u001b[0;34m.\u001b[0m\u001b[0;34m\u001b[0m\u001b[0m\n\u001b[1;32m    130\u001b[0m     \"\"\"\n\u001b[0;32m--> 131\u001b[0;31m     \u001b[0mdot\u001b[0m \u001b[0;34m=\u001b[0m \u001b[0mmodel_to_dot\u001b[0m\u001b[0;34m(\u001b[0m\u001b[0mmodel\u001b[0m\u001b[0;34m,\u001b[0m \u001b[0mshow_shapes\u001b[0m\u001b[0;34m,\u001b[0m \u001b[0mshow_layer_names\u001b[0m\u001b[0;34m,\u001b[0m \u001b[0mrankdir\u001b[0m\u001b[0;34m)\u001b[0m\u001b[0;34m\u001b[0m\u001b[0m\n\u001b[0m\u001b[1;32m    132\u001b[0m     \u001b[0m_\u001b[0m\u001b[0;34m,\u001b[0m \u001b[0mextension\u001b[0m \u001b[0;34m=\u001b[0m \u001b[0mos\u001b[0m\u001b[0;34m.\u001b[0m\u001b[0mpath\u001b[0m\u001b[0;34m.\u001b[0m\u001b[0msplitext\u001b[0m\u001b[0;34m(\u001b[0m\u001b[0mto_file\u001b[0m\u001b[0;34m)\u001b[0m\u001b[0;34m\u001b[0m\u001b[0m\n\u001b[1;32m    133\u001b[0m     \u001b[0;32mif\u001b[0m \u001b[0;32mnot\u001b[0m \u001b[0mextension\u001b[0m\u001b[0;34m:\u001b[0m\u001b[0;34m\u001b[0m\u001b[0m\n",
      "\u001b[0;32m~/tensorflow/local/lib/python3.4/site-packages/keras/utils/vis_utils.py\u001b[0m in \u001b[0;36mmodel_to_dot\u001b[0;34m(model, show_shapes, show_layer_names, rankdir)\u001b[0m\n\u001b[1;32m     50\u001b[0m     \u001b[0;32mfrom\u001b[0m \u001b[0;34m.\u001b[0m\u001b[0;34m.\u001b[0m\u001b[0mmodels\u001b[0m \u001b[0;32mimport\u001b[0m \u001b[0mSequential\u001b[0m\u001b[0;34m\u001b[0m\u001b[0m\n\u001b[1;32m     51\u001b[0m \u001b[0;34m\u001b[0m\u001b[0m\n\u001b[0;32m---> 52\u001b[0;31m     \u001b[0m_check_pydot\u001b[0m\u001b[0;34m(\u001b[0m\u001b[0;34m)\u001b[0m\u001b[0;34m\u001b[0m\u001b[0m\n\u001b[0m\u001b[1;32m     53\u001b[0m     \u001b[0mdot\u001b[0m \u001b[0;34m=\u001b[0m \u001b[0mpydot\u001b[0m\u001b[0;34m.\u001b[0m\u001b[0mDot\u001b[0m\u001b[0;34m(\u001b[0m\u001b[0;34m)\u001b[0m\u001b[0;34m\u001b[0m\u001b[0m\n\u001b[1;32m     54\u001b[0m     \u001b[0mdot\u001b[0m\u001b[0;34m.\u001b[0m\u001b[0mset\u001b[0m\u001b[0;34m(\u001b[0m\u001b[0;34m'rankdir'\u001b[0m\u001b[0;34m,\u001b[0m \u001b[0mrankdir\u001b[0m\u001b[0;34m)\u001b[0m\u001b[0;34m\u001b[0m\u001b[0m\n",
      "\u001b[0;32m~/tensorflow/local/lib/python3.4/site-packages/keras/utils/vis_utils.py\u001b[0m in \u001b[0;36m_check_pydot\u001b[0;34m()\u001b[0m\n\u001b[1;32m     25\u001b[0m         \u001b[0;31m# pydot raises a generic Exception here,\u001b[0m\u001b[0;34m\u001b[0m\u001b[0;34m\u001b[0m\u001b[0m\n\u001b[1;32m     26\u001b[0m         \u001b[0;31m# so no specific class can be caught.\u001b[0m\u001b[0;34m\u001b[0m\u001b[0;34m\u001b[0m\u001b[0m\n\u001b[0;32m---> 27\u001b[0;31m         raise ImportError('Failed to import pydot. You must install pydot'\n\u001b[0m\u001b[1;32m     28\u001b[0m                           ' and graphviz for `pydotprint` to work.')\n\u001b[1;32m     29\u001b[0m \u001b[0;34m\u001b[0m\u001b[0m\n",
      "\u001b[0;31mImportError\u001b[0m: Failed to import pydot. You must install pydot and graphviz for `pydotprint` to work."
     ]
    }
   ],
   "source": [
    "from keras.utils import plot_model\n",
    "plot_model(model, to_file='model.png')\n",
    "\n",
    "from IPython.display import SVG\n",
    "from keras.utils.vis_utils import model_to_dot\n",
    "\n",
    "SVG(model_to_dot(model).create(prog='dot', format='svg'))"
   ]
  },
  {
   "cell_type": "markdown",
   "metadata": {},
   "source": [
    "Visualize"
   ]
  },
  {
   "cell_type": "code",
   "execution_count": 33,
   "metadata": {
    "collapsed": true
   },
   "outputs": [],
   "source": [
    "def plot_predictions(model, figure_name, x_vals, y_vals, eval_range=.1):\n",
    "    # generate color dictionary\n",
    "    unique_collection_points = []\n",
    "    for loc in y_vals:\n",
    "        point = tuple(loc)\n",
    "        if point not in unique_collection_points:\n",
    "            unique_collection_points.append(point)\n",
    "    for loc in y_vals:\n",
    "        point = tuple(loc)\n",
    "        if point not in unique_collection_points:\n",
    "            unique_collection_points.append(point)\n",
    "    num_points = len(unique_collection_points)\n",
    " \n",
    "    color_map_iter = iter(cm.rainbow(np.linspace(0, 1, num_points)))\n",
    "    colors = {}\n",
    "    for loc in y_vals:\n",
    "        try:\n",
    "            colors[tuple(loc)]\n",
    "        except:\n",
    "            colors[tuple(loc)] = next(color_map_iter)\n",
    "            \n",
    "    # plot points\n",
    "    correct_points = 0\n",
    "    ax = plt.gca()\n",
    "    pred_set = model.predict(x_vals, verbose=0)\n",
    "    for i, point in enumerate(pred_set):\n",
    "        color = colors[tuple(y_vals[i])]\n",
    "        plt.scatter(point[0], point[1], color=color)\n",
    "        # compute the distance to the target\n",
    "        x_diff = point[0] - y_vals[i,0]\n",
    "        y_diff = point[1] - y_vals[i,1]\n",
    "        dist = np.sqrt(np.square(x_diff) + np.square(y_diff))\n",
    "        if dist < eval_range:\n",
    "            correct_points += 1\n",
    "    # plot acceptable range circles\n",
    "    for item in colors:\n",
    "        plt.scatter(float(item[0]), float(item[1]), color='black', marker='x')\n",
    "        rect = patches.Circle((float(item[0]), float(item[1])),\n",
    "                              radius=eval_range,linewidth=2,edgecolor='k',facecolor='none')\n",
    "        ax.add_patch(rect)\n",
    "    plt.title('{} \\nCorrect Predictions: {}/{} {:.2f}%'.format(figure_name, correct_points, len(pred_set), \n",
    "                                                  100*float(correct_points)/float(len(pred_set))))\n",
    "    \n",
    "    plt.savefig(figure_name)\n",
    "    plt.show()\n",
    "    "
   ]
  },
  {
   "cell_type": "code",
   "execution_count": 34,
   "metadata": {},
   "outputs": [
    {
     "name": "stdout",
     "output_type": "stream",
     "text": [
      "[(1.0, 0.0, 0.0, 0.0), (0.0, 1.0, 0.0, 0.0), (0.0, 0.0, 1.0, 0.0), (0.0, 0.0, 0.0, 1.0)]\n"
     ]
    },
    {
     "data": {
      "image/png": "[encoded data removed]",
      "text/plain": [
       "<matplotlib.figure.Figure at 0x7f771af61cc0>"
      ]
     },
     "metadata": {},
     "output_type": "display_data"
    },
    {
     "name": "stdout",
     "output_type": "stream",
     "text": [
      "[[ 1.  0.  0.  0.]\n",
      " [ 0.  1.  0.  0.]\n",
      " [ 0.  1.  0.  0.]\n",
      " ..., \n",
      " [ 0.  1.  0.  0.]\n",
      " [ 0.  0.  1.  0.]\n",
      " [ 0.  0.  0.  1.]]\n"
     ]
    }
   ],
   "source": [
    "plot_predictions(model, '../models/' + model_name + '/' + model_name + '_train.png', \n",
    "                 [wifi_train, mag_train], y_cls_train)"
   ]
  },
  {
   "cell_type": "code",
   "execution_count": 31,
   "metadata": {},
   "outputs": [
    {
     "data": {
      "image/png": "[encoded data removed]",
      "text/plain": [
       "<matplotlib.figure.Figure at 0x7f771ae5acc0>"
      ]
     },
     "metadata": {},
     "output_type": "display_data"
    }
   ],
   "source": [
    "plot_predictions(model, '../models/' + model_name + '/' + model_name + '_test.png', \n",
    "                 [wifi_test, mag_test], y_cls_test)"
   ]
  },
  {
   "cell_type": "code",
   "execution_count": null,
   "metadata": {
    "collapsed": true
   },
   "outputs": [],
   "source": []
  }
 ],
 "metadata": {
  "kernelspec": {
   "display_name": "Python 3",
   "language": "python",
   "name": "python3"
  },
  "language_info": {
   "codemirror_mode": {
    "name": "ipython",
    "version": 3
   },
   "file_extension": ".py",
   "mimetype": "text/x-python",
   "name": "python",
   "nbconvert_exporter": "python",
   "pygments_lexer": "ipython3",
   "version": "3.4.3"
  }
 },
 "nbformat": 4,
 "nbformat_minor": 1
}
