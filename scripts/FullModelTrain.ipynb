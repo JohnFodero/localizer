{
 "cells": [
  {
   "cell_type": "code",
   "execution_count": 1,
   "metadata": {
    "collapsed": true
   },
   "outputs": [],
   "source": [
    "%load_ext autoreload"
   ]
  },
  {
   "cell_type": "code",
   "execution_count": 2,
   "metadata": {},
   "outputs": [
    {
     "name": "stderr",
     "output_type": "stream",
     "text": [
      "Using TensorFlow backend.\n"
     ]
    }
   ],
   "source": [
    "import os\n",
    "import csv\n",
    "import cv2\n",
    "from localizer import *\n",
    "from models import *\n",
    "from keras.models import *\n",
    "from keras.layers import *\n",
    "from keras import callbacks\n",
    "%matplotlib inline\n",
    "import matplotlib.pyplot as plt\n",
    "import matplotlib.patches as patches\n",
    "import matplotlib.cm as cm\n",
    "import h5py\n",
    "%autoreload"
   ]
  },
  {
   "cell_type": "markdown",
   "metadata": {},
   "source": [
    "Load Data"
   ]
  },
  {
   "cell_type": "code",
   "execution_count": 3,
   "metadata": {
    "collapsed": true
   },
   "outputs": [],
   "source": [
    "def split_dataset(X, ratio=0.8):\n",
    "    cutoff = int(ratio * len(X))\n",
    "    return X[:cutoff], X[cutoff:]\n",
    "def preprocess_image(image):\n",
    "    # resize 244 x 244 x 3\n",
    "    image = cv2.resize(image, (244, 244))\n",
    "    return np.uint32(image)\n",
    "\n",
    "def scale_rssi(rssi):\n",
    "    return (rssi + 100) * (1./70.)\n",
    "def scale_xy():\n",
    "    pass"
   ]
  },
  {
   "cell_type": "code",
   "execution_count": 4,
   "metadata": {},
   "outputs": [
    {
     "name": "stdout",
     "output_type": "stream",
     "text": [
      "Creating new profile: test_prof\n",
      "----------------------------------------\n",
      "Localizer\n",
      "Wifi Device: wlan0\n",
      "Profile: test_prof Length: 12\n",
      "Routers:\n",
      "    260453955621904\n",
      "    260453955621906\n",
      "    260453955621905\n",
      "    260453955621907\n",
      "    36168625175133\n",
      "    48751578567808\n",
      "    13640875216817\n",
      "    13640875216818\n",
      "    13640875216819\n",
      "    13640875216831\n",
      "    13640875216829\n",
      "    13640875216830\n",
      "----------------------------------------\n"
     ]
    }
   ],
   "source": [
    "lab_localizer = localizer()\n",
    "lab_localizer.make_profile('test_prof', length=12)\n",
    "print(lab_localizer)"
   ]
  },
  {
   "cell_type": "code",
   "execution_count": 5,
   "metadata": {},
   "outputs": [
    {
     "name": "stdout",
     "output_type": "stream",
     "text": [
      "-- loading from 2017-07-13_15:14\n",
      "-- loading from 2017-07-13_11:06\n",
      "-- loading from 2017-07-13_15:15\n",
      "-- loading from 2017-07-14_10:08\n",
      "Loaded 6 files from ../datasets/\n",
      "(256, 12)\n",
      "(64, 2)\n",
      "(320, 244, 244, 3)\n"
     ]
    }
   ],
   "source": [
    "\n",
    "def load_data(path, profile=None):\n",
    "    wifi = []   # (len, num_cells_in_profile)\n",
    "    mag = []    # (len, 2)\n",
    "    img = []    # (len, 2, imgx, imgy, imgd)\n",
    "    xy = []     # (len, 2)\n",
    "    file_count = 0\n",
    "    if profile is not None:\n",
    "        for file_name in os.listdir(path):\n",
    "            if os.path.isfile(path + file_name):\n",
    "                print('-- loading from {}'.format(file_name))\n",
    "                with open(path + file_name, 'r') as f:\n",
    "                    reader = csv.reader(f)\n",
    "                    for row in reader:\n",
    "                        xy.append([float(row[0]), float(row[1])])\n",
    "                        xy.append([float(row[0]), float(row[1])])\n",
    "                        mag.append([float(row[2]), float(row[3])])\n",
    "                        mag.append([float(row[2]), float(row[3])])\n",
    "                        img1 = cv2.imread(row[5])\n",
    "                        img1 = preprocess_image(img1)\n",
    "                        img2 = cv2.imread(row[6])\n",
    "                        img2 = preprocess_image(img2)\n",
    "                        img.append(img1)\n",
    "                        img.append(img2)\n",
    "                        count = 0\n",
    "                        wifi_row = []\n",
    "                        for addr in profile:\n",
    "                            for cell in row[7:]:\n",
    "                                mac, rssi = cell.split(' ')\n",
    "                                if addr == mac:\n",
    "                                    wifi_row.append(scale_rssi(float(rssi)))\n",
    "                                    break\n",
    "                            else:\n",
    "                                wifi_row.append(scale_rssi(-100.0))\n",
    "                        wifi.append(wifi_row)\n",
    "                        wifi.append(wifi_row)\n",
    "            file_count += 1\n",
    "        print('Loaded {} files from {}'.format(file_count, path))\n",
    "        return np.array(wifi), np.array(mag), np.array(img), np.array(xy)\n",
    "        \n",
    "wifi, mag, images, y = load_data('../datasets/', lab_localizer.profile)\n",
    "p = np.random.permutation(len(y))\n",
    "wifi, mag, images, y = wifi[p], mag[p], images[p], y[p]\n",
    "\n",
    "wifi_train, wifi_test = split_dataset(wifi)\n",
    "mag_train, mag_test = split_dataset(mag)\n",
    "images_train, images_test = split_dataset(images)\n",
    "y_train, y_test = split_dataset(y)\n",
    "print(wifi_train.shape)\n",
    "print(mag_test.shape)\n",
    "print(images.shape)"
   ]
  },
  {
   "cell_type": "markdown",
   "metadata": {},
   "source": [
    "Train"
   ]
  },
  {
   "cell_type": "code",
   "execution_count": 6,
   "metadata": {},
   "outputs": [
    {
     "name": "stdout",
     "output_type": "stream",
     "text": [
      "____________________________________________________________________________________________________\n",
      "Layer (type)                     Output Shape          Param #     Connected to                     \n",
      "====================================================================================================\n",
      "input_3 (InputLayer)             (None, 244, 244, 3)   0                                            \n",
      "____________________________________________________________________________________________________\n",
      "input_1 (InputLayer)             (None, 12)            0                                            \n",
      "____________________________________________________________________________________________________\n",
      "input_2 (InputLayer)             (None, 2)             0                                            \n",
      "____________________________________________________________________________________________________\n",
      "conv2d_1 (Conv2D)                (None, 243, 243, 16)  208         input_3[0][0]                    \n",
      "____________________________________________________________________________________________________\n",
      "dense_1 (Dense)                  (None, 64)            832         input_1[0][0]                    \n",
      "____________________________________________________________________________________________________\n",
      "dense_4 (Dense)                  (None, 16)            48          input_2[0][0]                    \n",
      "____________________________________________________________________________________________________\n",
      "conv2d_2 (Conv2D)                (None, 242, 242, 24)  1560        conv2d_1[0][0]                   \n",
      "____________________________________________________________________________________________________\n",
      "dense_2 (Dense)                  (None, 64)            4160        dense_1[0][0]                    \n",
      "____________________________________________________________________________________________________\n",
      "dense_5 (Dense)                  (None, 16)            272         dense_4[0][0]                    \n",
      "____________________________________________________________________________________________________\n",
      "conv2d_3 (Conv2D)                (None, 241, 241, 24)  2328        conv2d_2[0][0]                   \n",
      "____________________________________________________________________________________________________\n",
      "dense_3 (Dense)                  (None, 64)            4160        dense_2[0][0]                    \n",
      "____________________________________________________________________________________________________\n",
      "dense_6 (Dense)                  (None, 16)            272         dense_5[0][0]                    \n",
      "____________________________________________________________________________________________________\n",
      "flatten_1 (Flatten)              (None, 1393944)       0           conv2d_3[0][0]                   \n",
      "____________________________________________________________________________________________________\n",
      "concatenate_1 (Concatenate)      (None, 1394024)       0           dense_3[0][0]                    \n",
      "                                                                   dense_6[0][0]                    \n",
      "                                                                   flatten_1[0][0]                  \n",
      "____________________________________________________________________________________________________\n",
      "dense_7 (Dense)                  (None, 2)             2788050     concatenate_1[0][0]              \n",
      "====================================================================================================\n",
      "Total params: 2,801,890\n",
      "Trainable params: 2,801,890\n",
      "Non-trainable params: 0\n",
      "____________________________________________________________________________________________________\n",
      "None\n"
     ]
    }
   ],
   "source": [
    "\n",
    "# define model inputs\n",
    "wifi_input = Input(shape=(12,), dtype='float32')\n",
    "mag_input = Input(shape=(2,), dtype='float32')\n",
    "img_input = Input(shape=(244, 244, 3), dtype='float32')\n",
    "\n",
    "wifi_branch = Dense(64, activation='relu')(wifi_input)\n",
    "wifi_branch = Dense(64, activation='relu')(wifi_branch)\n",
    "wifi_branch = Dense(64, activation='relu')(wifi_branch)\n",
    "\n",
    "mag_branch = Dense(16, activation='relu')(mag_input)\n",
    "mag_branch = Dense(16, activation='relu')(mag_branch)\n",
    "mag_branch = Dense(16, activation='relu')(mag_branch)\n",
    "\n",
    "img_branch = Conv2D(16, (2, 2))(img_input)\n",
    "img_branch = Conv2D(24, (2, 2))(img_branch)\n",
    "img_branch = Conv2D(24, (2, 2))(img_branch)\n",
    "img_branch = Flatten()(img_branch)\n",
    "\n",
    "merged = concatenate([wifi_branch, mag_branch, img_branch], axis=-1)\n",
    "out = Dense(2, activation='linear')(merged)\n",
    "\n",
    "model = Model([wifi_input, mag_input, img_input], out)\n",
    "model.compile(optimizer='rmsprop', loss='mse', metrics=['accuracy'])\n",
    "\n",
    "print(model.summary())"
   ]
  },
  {
   "cell_type": "code",
   "execution_count": 7,
   "metadata": {},
   "outputs": [
    {
     "name": "stdout",
     "output_type": "stream",
     "text": [
      "Train on 230 samples, validate on 26 samples\n",
      "Epoch 1/10\n",
      "220/230 [===========================>..] - ETA: 1s - loss: 7610574.8997 - acc: 0.1545Epoch 00000: val_loss improved from inf to 2655.35750, saving model to ../models/test_model/test_model.hdf5\n",
      "230/230 [==============================] - 29s - loss: 7279787.3058 - acc: 0.1522 - val_loss: 2655.3575 - val_acc: 0.0769\n",
      "Epoch 2/10\n",
      "220/230 [===========================>..] - ETA: 0s - loss: 2223.6969 - acc: 0.2318Epoch 00001: val_loss did not improve\n",
      "230/230 [==============================] - 20s - loss: 2290.9717 - acc: 0.2304 - val_loss: 17328.6149 - val_acc: 0.5000\n",
      "Epoch 3/10\n",
      "220/230 [===========================>..] - ETA: 0s - loss: 1472033.7555 - acc: 0.5000Epoch 00002: val_loss did not improve\n",
      "230/230 [==============================] - 20s - loss: 1409547.4590 - acc: 0.4870 - val_loss: 499876.4141 - val_acc: 0.2692\n",
      "Epoch 4/10\n",
      "220/230 [===========================>..] - ETA: 0s - loss: 70460.2676 - acc: 0.2182Epoch 00003: val_loss did not improve\n",
      "230/230 [==============================] - 20s - loss: 78582.9135 - acc: 0.2130 - val_loss: 89611.3233 - val_acc: 0.2692\n",
      "Epoch 5/10\n",
      "220/230 [===========================>..] - ETA: 0s - loss: 177297.4218 - acc: 0.3045Epoch 00004: val_loss did not improve\n",
      "230/230 [==============================] - 20s - loss: 182527.9415 - acc: 0.2957 - val_loss: 313511.1947 - val_acc: 1.0000\n",
      "Epoch 6/10\n",
      "220/230 [===========================>..] - ETA: 0s - loss: 1953027.3123 - acc: 0.5818Epoch 00005: val_loss improved from 2655.35750 to 1231.07393, saving model to ../models/test_model/test_model.hdf5\n",
      "230/230 [==============================] - 20s - loss: 1868140.6071 - acc: 0.6000 - val_loss: 1231.0739 - val_acc: 0.6538\n",
      "Epoch 7/10\n",
      "220/230 [===========================>..] - ETA: 0s - loss: 4916.5238 - acc: 0.5955Epoch 00006: val_loss did not improve\n",
      "230/230 [==============================] - 20s - loss: 5890.7779 - acc: 0.5739 - val_loss: 658167.1466 - val_acc: 0.0769\n",
      "Epoch 8/10\n",
      "220/230 [===========================>..] - ETA: 0s - loss: 702331.8650 - acc: 0.4455Epoch 00007: val_loss did not improve\n",
      "230/230 [==============================] - 20s - loss: 671895.9930 - acc: 0.4261 - val_loss: 937722.3649 - val_acc: 0.0769\n",
      "Epoch 9/10\n",
      "220/230 [===========================>..] - ETA: 0s - loss: 572727.0010 - acc: 0.7636Epoch 00008: val_loss improved from 1231.07393 to 873.56983, saving model to ../models/test_model/test_model.hdf5\n",
      "230/230 [==============================] - 20s - loss: 547836.7008 - acc: 0.7739 - val_loss: 873.5698 - val_acc: 1.0000\n",
      "Epoch 10/10\n",
      "220/230 [===========================>..] - ETA: 0s - loss: 70034.3428 - acc: 0.7773Epoch 00009: val_loss did not improve\n",
      "230/230 [==============================] - 20s - loss: 67298.0363 - acc: 0.7522 - val_loss: 41527.2764 - val_acc: 0.5385\n",
      "64/64 [==============================] - 2s     \n",
      "[19243.595092773438, 0.53125001676380634]\n"
     ]
    }
   ],
   "source": [
    "epochs=10\n",
    "batch_size=10\n",
    "\n",
    "model_name = 'test_model'\n",
    "if not os.path.exists('../models/' + model_name):\n",
    "    os.makedirs('../models/' + model_name)\n",
    "\n",
    "#Save the model after each epoch if the validation loss improved.\n",
    "save_best = callbacks.ModelCheckpoint('../models/' + model_name + '/' + model_name + '.hdf5', monitor='val_loss', verbose=1, \n",
    "                                     save_best_only=True, mode='min')\n",
    "\n",
    "#stop training if the validation loss doesn't improve for 5 consecutive epochs.\n",
    "early_stop = callbacks.EarlyStopping(monitor='val_loss', min_delta=0, patience=5, \n",
    "                                     verbose=0, mode='auto')\n",
    "\n",
    "callbacks_list = [save_best, early_stop]\n",
    "model.fit([wifi_train, mag_train, images_train], y_train, epochs=epochs, batch_size=batch_size, validation_split=0.1, callbacks=callbacks_list)\n",
    "print(model.evaluate([wifi_test, mag_test, images_test], y_test, batch_size=batch_size))"
   ]
  },
  {
   "cell_type": "markdown",
   "metadata": {},
   "source": [
    "Visualize"
   ]
  },
  {
   "cell_type": "code",
   "execution_count": 30,
   "metadata": {
    "collapsed": true
   },
   "outputs": [],
   "source": [
    "def plot_predictions(model, figure_name, x_vals, y_vals, eval_range=1.0):\n",
    "    # generate color dictionary\n",
    "    unique_collection_points = []\n",
    "    for loc in y_vals:\n",
    "        point = tuple(loc)\n",
    "        if point not in unique_collection_points:\n",
    "            unique_collection_points.append(point)\n",
    "    for loc in y_vals:\n",
    "        point = tuple(loc)\n",
    "        if point not in unique_collection_points:\n",
    "            unique_collection_points.append(point)\n",
    "    num_points = len(unique_collection_points)\n",
    "\n",
    "    color_map_iter = iter(cm.rainbow(np.linspace(0, 1, num_points)))\n",
    "    colors = {}\n",
    "    for loc in y_vals:\n",
    "        try:\n",
    "            colors[tuple(loc)]\n",
    "        except:\n",
    "            colors[tuple(loc)] = next(color_map_iter)\n",
    "            \n",
    "    # plot points\n",
    "    correct_points = 0\n",
    "    ax = plt.gca()\n",
    "    pred_set = model.predict(x_vals, verbose=0)\n",
    "    for i, point in enumerate(pred_set):\n",
    "        color = colors[tuple(y_vals[i])]\n",
    "        plt.scatter(point[0], point[1], color=color)\n",
    "        # compute the distance to the target\n",
    "        x_diff = point[0] - y_vals[i,0]\n",
    "        y_diff = point[1] - y_vals[i,1]\n",
    "        dist = np.sqrt(np.square(x_diff) + np.square(y_diff))\n",
    "        if dist < eval_range:\n",
    "            correct_points += 1\n",
    "    # plot acceptable range circles\n",
    "    for item in colors:\n",
    "        plt.scatter(float(item[0]), float(item[1]), color='black', marker='x')\n",
    "        rect = patches.Circle((float(item[0]), float(item[1])),\n",
    "                              radius=eval_range,linewidth=2,edgecolor='k',facecolor='none')\n",
    "        ax.add_patch(rect)\n",
    "    plt.title('{} \\nCorrect Predictions: {}/{} {:.2f}%'.format(figure_name, correct_points, len(pred_set), \n",
    "                                                  100*float(correct_points)/float(len(pred_set))))\n",
    "    \n",
    "    plt.savefig(figure_name)\n",
    "    plt.show()\n",
    "    "
   ]
  },
  {
   "cell_type": "code",
   "execution_count": 31,
   "metadata": {},
   "outputs": [
    {
     "data": {
      "image/png": "[encoded data removed]",
      "text/plain": [
       "<matplotlib.figure.Figure at 0x7f2033f3c8>"
      ]
     },
     "metadata": {},
     "output_type": "display_data"
    }
   ],
   "source": [
    "plot_predictions(model, '../models/' + model_name + '/' + model_name + '_train.png', \n",
    "                 [wifi_train, mag_train, images_train], y_train)"
   ]
  },
  {
   "cell_type": "code",
   "execution_count": 32,
   "metadata": {},
   "outputs": [
    {
     "data": {
      "image/png": "[encoded data removed]",
      "text/plain": [
       "<matplotlib.figure.Figure at 0x7f3c06fcc0>"
      ]
     },
     "metadata": {},
     "output_type": "display_data"
    }
   ],
   "source": [
    "plot_predictions(model, '../models/' + model_name + '/' + model_name + '_test.png', \n",
    "                 [wifi_test, mag_test, images_test], y_test)"
   ]
  },
  {
   "cell_type": "code",
   "execution_count": null,
   "metadata": {
    "collapsed": true
   },
   "outputs": [],
   "source": []
  }
 ],
 "metadata": {
  "kernelspec": {
   "display_name": "Python 3",
   "language": "python",
   "name": "python3"
  },
  "language_info": {
   "codemirror_mode": {
    "name": "ipython",
    "version": 3
   },
   "file_extension": ".py",
   "mimetype": "text/x-python",
   "name": "python",
   "nbconvert_exporter": "python",
   "pygments_lexer": "ipython3",
   "version": "3.5.2"
  }
 },
 "nbformat": 4,
 "nbformat_minor": 1
}
