{
 "cells": [
  {
   "cell_type": "code",
   "execution_count": 1,
   "metadata": {
    "collapsed": false
   },
   "outputs": [
    {
     "name": "stderr",
     "output_type": "stream",
     "text": [
      "Using TensorFlow backend.\n"
     ]
    }
   ],
   "source": [
    "import numpy as np\n",
    "np.random.seed(7)\n",
    "from scanner import *\n",
    "from localizer import *\n",
    "from tools import *\n",
    "from models import *\n",
    "from keras.callbacks import *\n",
    "os.environ['TF_CPP_MIN_LOG_LEVEL'] = '3'"
   ]
  },
  {
   "cell_type": "code",
   "execution_count": 2,
   "metadata": {},
   "outputs": [
    {
     "name": "stdout",
     "output_type": "stream",
     "text": [
      "Creating new profile: lab_profile_bigger\n"
     ]
    },
    {
     "name": "stdout",
     "output_type": "stream",
     "text": [
      "----------------------------------------\nLocalizer\nWifi Device: wlp3s0\nProfile: lab_profile_bigger Length: 57\nRouters:\n    260453955618305\n    260453961510865\n    260453955618306\n    260453955618307\n    260453955618310\n    260453961510866\n    260453961510867\n    260453961510870\n    260453955618304\n    260453955571521\n    260453955571520\n    260453955571522\n    260453955571523\n    260453954156657\n    260453954156662\n    260453954156660\n    260453954156656\n    260453954156659\n    73624541891\n    13640875216131\n    13640875216129\n    13640875216134\n    13640875216130\n    260453961510545\n    260453961510544\n    13640875215889\n    13640875215890\n    13640875215891\n    13640875215888\n    260453961511585\n    260453961511586\n    260453961509698\n    968197069745\n    260453961509697\n    260453955570576\n    260453961511584\n    968197069744\n    260453955570578\n    968197069750\n    260453961511587\n    968197069748\n    260453961509699\n    260453962890784\n    968197069747\n    260453955570579\n    260453962890785\n    13640875214099\n    260453955570707\n    260453955570706\n    260453955570705\n    13640875214386\n    260453961505702\n    110299167992093\n    260453955570708\n    13640875215905\n    260453961510163\n    13640875215332\n----------------------------------------\n"
     ]
    },
    {
     "name": "stdout",
     "output_type": "stream",
     "text": [
      "2017-06-28_13:52 loaded\n"
     ]
    },
    {
     "name": "stdout",
     "output_type": "stream",
     "text": [
      "2017-07-03_15:32 loaded\n2017-07-03_15:26 loaded\n"
     ]
    },
    {
     "name": "stdout",
     "output_type": "stream",
     "text": [
      "2017-07-05_14:57 loaded\nLoaded 4 files from ../datasets\n           | X shape         | y shape        \nTRAIN      | (2070, 57)      | (2070, 2)      \nTEST       | (230, 57)       | (230, 2)       \n"
     ]
    }
   ],
   "source": [
    "wifi = wifi_scanner('wlp3s0')\n",
    "\n",
    "lab_loc = localizer(wifi)\n",
    "lab_loc.make_profile('lab_profile_bigger')\n",
    "#lab_loc.load_profile('lab_profile_bigger')\n",
    "print(lab_loc)\n",
    "\n",
    "# load and scale the data\n",
    "X_train, y_train, X_test, y_test = load_data_from_folder('../datasets', lab_loc.profile, \n",
    "                                                         train_test_split=0.9, keep_percent=1.0, \n",
    "                                                         item='rssi')\n",
    "\n",
    "shape_str = '{:10s} | {:15s} | {:15s}'\n",
    "print(shape_str.format('', 'X shape', 'y shape'))\n",
    "print(shape_str.format('TRAIN', str(X_train.shape), str(y_train.shape)))\n",
    "print(shape_str.format('TEST', str(X_test.shape), str(y_test.shape)))"
   ]
  },
  {
   "cell_type": "code",
   "execution_count": 5,
   "metadata": {},
   "outputs": [],
   "source": [
    "# build model\n",
    "x_model = Sequential()\n",
    "x_model.add(Dense(256, kernel_initializer='he_normal', input_shape=(len(lab_loc.profile),)))\n",
    "x_model.add(Activation('relu'))\n",
    "x_model.add(Dense(1024, kernel_initializer='he_normal'))\n",
    "x_model.add(Activation('relu'))\n",
    "x_model.add(Dense(256, kernel_initializer='he_normal'))\n",
    "x_model.add(Activation('relu'))\n",
    "x_model.add(Dense(1, kernel_initializer='he_normal'))\n",
    "x_model.add(Activation('linear'))   \n",
    "\n",
    "x_model.compile(optimizer='rmsprop', loss='mse')\n",
    "\n",
    "# build model\n",
    "y_model = Sequential()\n",
    "y_model.add(Dense(256, kernel_initializer='he_normal', input_shape=(len(lab_loc.profile),)))\n",
    "y_model.add(Activation('relu'))\n",
    "y_model.add(Dense(1024, kernel_initializer='he_normal'))\n",
    "y_model.add(Activation('relu'))\n",
    "y_model.add(Dense(256, kernel_initializer='he_normal'))\n",
    "y_model.add(Activation('relu'))\n",
    "y_model.add(Dense(1, kernel_initializer='he_normal'))\n",
    "y_model.add(Activation('linear'))   \n",
    "\n",
    "y_model.compile(optimizer='rmsprop', loss='mse')\n",
    "\n",
    "\n",
    "epochs = 10\n",
    "batch_size = 32\n",
    "\n",
    "x_model.fit(X_train, y_train[:,0], epochs=epochs, batch_size=batch_size, validation_split=0.1,\n",
    "             verbose=0)\n",
    "y_model.fit(X_train, y_train[:,1], epochs=epochs, batch_size=batch_size, validation_split=0.1,\n",
    "             verbose=0)"
   ]
  },
  {
   "cell_type": "code",
   "execution_count": 5,
   "metadata": {},
   "outputs": [
    {
     "name": "stdout",
     "output_type": "stream",
     "text": [
      "X_model\nTraining RMSE: 0.12035\nTesting RMSE: 0.12791\n\nY_model\n"
     ]
    },
    {
     "name": "stdout",
     "output_type": "stream",
     "text": [
      "Training RMSE: 0.22739\nTesting RMSE: 0.24095\n\n"
     ]
    }
   ],
   "source": [
    "print('X_model')\n",
    "print('Training RMSE: {:.5f}'.format(np.sqrt(x_model.evaluate(X_train, y_train[:,0], verbose=0))))\n",
    "print('Testing RMSE: {:.5f}\\n'.format(np.sqrt(x_model.evaluate(X_test, y_test[:,0], verbose=0))))\n",
    "\n",
    "print('Y_model')\n",
    "print('Training RMSE: {:.5f}'.format(np.sqrt(y_model.evaluate(X_train, y_train[:,1], verbose=0))))\n",
    "print('Testing RMSE: {:.5f}\\n'.format(np.sqrt(y_model.evaluate(X_test, y_test[:,1], verbose=0))))"
   ]
  },
  {
   "cell_type": "code",
   "execution_count": 13,
   "metadata": {},
   "outputs": [
    {
     "name": "stdout",
     "output_type": "stream",
     "text": [
      "[[ 0.58571429  0.57142857  0.58571429 ...,  0.65714286  0.28571429\n   0.41428571]\n [ 0.57142857  0.57142857  0.55714286 ...,  0.65714286  0.28571429\n   0.41428571]\n [ 0.55714286  0.57142857  0.57142857 ...,  0.65714286  0.28571429\n   0.41428571]\n ..., \n [ 0.58571429  0.58571429  0.58571429 ...,  0.61428571  0.25714286\n   0.44285714]\n [ 0.58571429  0.58571429  0.58571429 ...,  0.61428571  0.25714286\n   0.44285714]\n [ 0.55714286  0.57142857  0.58571429 ...,  0.67142857  0.25714286\n   0.41428571]]\n[[ 1.08290327]\n [ 1.11297119]\n [ 1.04010117]\n [ 1.03063142]\n [ 1.05188823]\n [ 1.04801238]\n [ 0.95345336]\n [ 0.96238643]\n [ 0.9646911 ]\n [ 1.02571332]\n [ 1.03975928]\n [ 0.95567751]\n [ 0.9808163 ]\n [ 0.95872909]\n [ 0.96321744]\n [ 0.92971033]\n [ 0.96307158]\n [ 0.99472189]\n [ 0.90695971]\n [ 1.01532745]\n [ 0.96903968]\n [ 0.98168439]\n [ 0.88665289]\n [ 0.91949612]\n [ 0.9040333 ]\n [ 0.89397323]\n [ 0.9081071 ]\n [ 0.91721052]\n [ 0.88446897]\n [ 0.94161332]\n [ 0.92989343]\n [ 0.9521324 ]\n [ 0.92039073]\n [ 0.91704279]\n [ 0.90633118]\n [ 0.91128165]\n [ 0.89644462]\n [ 0.90316647]\n [ 0.95332897]\n [ 0.82687879]\n [ 0.87955111]\n [ 0.85411662]\n [ 0.87134659]\n [ 0.95563233]\n [ 0.91921031]\n [ 0.97903937]\n [ 0.92496878]\n [ 1.01559758]\n [ 0.97048324]\n [ 0.90316206]\n [ 0.91994721]\n [ 0.95668375]\n [ 0.96840376]\n [ 0.9598071 ]\n [ 1.00352931]\n [ 0.98974913]\n [ 0.92296124]\n [ 0.97525024]\n [ 0.99777895]\n [ 0.93139005]\n [ 0.8780362 ]\n [ 0.9306848 ]\n [ 1.15854585]\n [ 0.96202201]\n [ 0.97550321]\n [ 1.04652965]\n [ 1.03395009]\n [ 0.93480039]\n [ 0.99375093]\n [ 0.97150749]\n [ 1.0115459 ]\n [ 0.96010238]\n [ 0.98668832]\n [ 0.95772839]\n [ 0.9634912 ]\n [ 0.97472066]\n [ 0.95185888]\n [ 0.97864479]\n [ 1.00323629]\n [ 1.01231277]\n [ 0.97709507]\n [ 1.02017164]\n [ 0.93115461]\n [ 0.94705391]\n [ 0.91635573]\n [ 0.9278062 ]\n [ 0.91187388]\n [ 0.9700523 ]\n [ 1.0596    ]\n [ 1.05110943]\n [ 0.98855913]\n [ 0.99169546]\n [ 0.92776769]\n [ 0.95892525]\n [ 0.95205587]\n [ 0.94911176]\n [ 0.96013623]\n [ 1.03592455]\n [ 1.00929034]\n [ 1.03275239]]\n"
     ]
    }
   ],
   "source": [
    "# for testing a file as model input data\n",
    "X_temp, y_temp = load_data_from_file('../datasets/old_datasets/2017-07-06_10:50', lab_loc.profile, \n",
    "                                     keep_percent=1.0, item='rssi')\n",
    "print(X_temp)\n",
    "print(y_model.predict(X_temp))"
   ]
  },
  {
   "cell_type": "code",
   "execution_count": 14,
   "metadata": {},
   "outputs": [
    {
     "name": "stdout",
     "output_type": "stream",
     "text": [
      "[[ -58  -59  -59  -58  -62  -55  -62  -56  -61  -57  -56 -100 -100  -66\n  -100  -57  -55  -55 -100  -70]]\nX:  [[-0.0658101]]\nY:  [[ 1.33481276]]\n"
     ]
    },
    {
     "name": "stdout",
     "output_type": "stream",
     "text": [
      "[[ -58  -59  -58  -58  -62  -55  -62  -57  -61  -57  -57  -65  -65  -65\n   -65  -55  -55  -55 -100  -73]]\nX:  [[ 0.09439811]]\nY:  [[ 1.00913477]]\n"
     ]
    },
    {
     "name": "stdout",
     "output_type": "stream",
     "text": [
      "[[ -59  -59  -59  -59  -62  -57  -62  -57  -62  -56  -57  -65  -64  -64\n   -65  -55  -55  -55 -100  -71]]\nX:  [[ 0.06157761]]\nY:  [[ 1.08050668]]\n"
     ]
    },
    {
     "name": "stdout",
     "output_type": "stream",
     "text": [
      "[[ -58  -59  -58  -58  -62  -57  -62  -56  -62  -57  -57  -65  -65  -64\n   -64  -55  -55  -55 -100  -71]]\nX:  [[ 0.06453505]]\nY:  [[ 1.0342685]]\n"
     ]
    },
    {
     "name": "stdout",
     "output_type": "stream",
     "text": [
      "[[ -58  -59  -59  -59  -61  -57  -59  -56  -62  -57  -56  -65  -65  -64\n   -64  -54  -55  -54 -100  -66]]\nX:  [[ 0.00740764]]\nY:  [[ 1.21638572]]\n"
     ]
    },
    {
     "name": "stdout",
     "output_type": "stream",
     "text": [
      "[[-59 -59 -59 -59 -62 -57 -62 -56 -62 -56 -57 -65 -65 -65 -65 -54 -55 -54\n  -82 -66]]\nX:  [[-0.2217709]]\nY:  [[ 1.11457324]]\n"
     ]
    },
    {
     "name": "stdout",
     "output_type": "stream",
     "text": [
      "[[-59 -61 -58 -58 -62 -57 -61 -57 -62 -56 -57 -65 -65 -64 -64 -54 -55 -54\n  -82 -66]]\nX:  [[-0.20637751]]\nY:  [[ 1.08476436]]\n"
     ]
    },
    {
     "name": "stdout",
     "output_type": "stream",
     "text": [
      "[[-59 -59 -58 -58 -62 -56 -62 -56 -62 -56 -57 -65 -64 -64 -64 -54 -55 -54\n  -82 -66]]\nX:  [[-0.21310078]]\nY:  [[ 1.08118641]]\n"
     ]
    },
    {
     "name": "stdout",
     "output_type": "stream",
     "text": [
      "[[-59 -59 -58 -59 -62 -55 -59 -57 -62 -54 -56 -65 -64 -64 -65 -54 -55 -54\n  -82 -66]]\nX:  [[-0.20849486]]\nY:  [[ 1.14385867]]\n"
     ]
    },
    {
     "name": "stdout",
     "output_type": "stream",
     "text": [
      "[[-60 -59 -59 -61 -62 -57 -59 -57 -62 -57 -56 -65 -64 -64 -65 -54 -55 -54\n  -82 -66]]\nX:  [[-0.21154712]]\nY:  [[ 1.12421489]]\n"
     ]
    },
    {
     "name": "stdout",
     "output_type": "stream",
     "text": [
      "[[-58 -59 -59 -59 -62 -56 -62 -55 -62 -56 -55 -65 -65 -65 -66 -54 -55 -54\n  -82 -72]]\nX:  [[-0.14664784]]\nY:  [[ 1.0036093]]\n"
     ]
    },
    {
     "name": "stdout",
     "output_type": "stream",
     "text": [
      "[[-59 -59 -59 -59 -62 -56 -63 -57 -63 -57 -56 -65 -65 -65 -66 -54 -55 -54\n  -82 -72]]\nX:  [[-0.15140434]]\nY:  [[ 0.94252926]]\n"
     ]
    },
    {
     "name": "stdout",
     "output_type": "stream",
     "text": [
      "[[-61 -59 -61 -60 -62 -54 -63 -54 -63 -54 -54 -65 -65 -65 -66 -54 -55 -54\n  -82 -72]]\nX:  [[-0.15126954]]\nY:  [[ 1.0614922]]\n"
     ]
    },
    {
     "name": "stdout",
     "output_type": "stream",
     "text": [
      "[[-61 -59 -61 -60 -62 -54 -61 -58 -63 -54 -57 -65 -65 -69 -66 -54 -55 -55\n  -82 -72]]\nX:  [[-0.15148826]]\nY:  [[ 1.07848394]]\n"
     ]
    },
    {
     "name": "stdout",
     "output_type": "stream",
     "text": [
      "[[-57 -60 -57 -57 -62 -56 -63 -56 -63 -57 -56 -65 -69 -68 -70 -54 -55 -55\n  -82 -72]]\nX:  [[-0.09613541]]\nY:  [[ 1.0127883]]\n"
     ]
    },
    {
     "name": "stdout",
     "output_type": "stream",
     "text": [
      "[[-56 -56 -56 -56 -62 -61 -60 -60 -60 -57 -60 -65 -72 -68 -73 -54 -55 -55\n  -82 -72]]\nX:  [[-0.01178448]]\nY:  [[ 0.93749547]]\n"
     ]
    },
    {
     "name": "stdout",
     "output_type": "stream",
     "text": [
      "[[-56 -56 -56 -56 -57 -56 -56 -55 -56 -56 -56 -65 -72 -69 -73 -54 -55 -55\n  -82 -72]]\nX:  [[ 0.02650681]]\nY:  [[ 1.16126227]]\n"
     ]
    },
    {
     "name": "stdout",
     "output_type": "stream",
     "text": [
      "[[-54 -54 -53 -53 -62 -59 -63 -55 -62 -56 -60 -65 -72 -72 -73 -56 -55 -55\n  -82 -72]]\nX:  [[-0.00480351]]\nY:  [[ 0.97725827]]\n"
     ]
    },
    {
     "name": "stdout",
     "output_type": "stream",
     "text": [
      "[[-53 -53 -53 -53 -58 -58 -58 -59 -57 -56 -59 -65 -72 -69 -70 -56 -55 -56\n  -82 -73]]\nX:  [[ 0.10984235]]\nY:  [[ 0.90954643]]\n"
     ]
    },
    {
     "name": "stdout",
     "output_type": "stream",
     "text": [
      "[[-57 -57 -57 -58 -56 -59 -55 -59 -55 -59 -59 -65 -72 -69 -71 -59 -60 -58\n  -82 -79]]\nX:  [[ 0.22379772]]\nY:  [[ 0.62482756]]\n"
     ]
    },
    {
     "name": "stdout",
     "output_type": "stream",
     "text": [
      "[[-54 -54 -54 -54 -56 -63 -56 -63 -57 -63 -63 -65 -72 -69 -71 -59 -60 -57\n  -82 -79]]\nX:  [[ 0.25676289]]\nY:  [[ 0.7657094]]\n"
     ]
    },
    {
     "name": "stdout",
     "output_type": "stream",
     "text": [
      "[[-56 -56 -57 -57 -56 -58 -56 -59 -57 -58 -58 -65 -72 -69 -71 -59 -60 -57\n  -82 -79]]\nX:  [[ 0.2157924]]\nY:  [[ 0.60501021]]\n"
     ]
    },
    {
     "name": "stdout",
     "output_type": "stream",
     "text": [
      "[[-58 -58 -58 -59 -56 -58 -56 -59 -59 -58 -58 -65 -72 -69 -71 -59 -60 -57\n  -82 -79]]\nX:  [[ 0.17806207]]\nY:  [[ 0.72061622]]\n"
     ]
    },
    {
     "name": "stdout",
     "output_type": "stream",
     "text": [
      "[[-56 -56 -56 -56 -59 -57 -59 -57 -59 -58 -58 -73 -73 -72 -71 -59 -60 -57\n  -82 -79]]\nX:  [[ 0.16837503]]\nY:  [[ 0.77974755]]\n"
     ]
    },
    {
     "name": "stdout",
     "output_type": "stream",
     "text": [
      "[[-55 -55 -56 -55 -59 -57 -59 -58 -59 -57 -58 -73 -73 -72 -71 -59 -60 -57\n  -82 -76]]\nX:  [[ 0.11419354]]\nY:  [[ 0.89747179]]\n"
     ]
    },
    {
     "name": "stdout",
     "output_type": "stream",
     "text": [
      "[[-55 -55 -56 -55 -59 -57 -59 -58 -59 -57 -58 -73 -73 -72 -71 -59 -60 -57\n  -85 -75]]\nX:  [[ 0.11222515]]\nY:  [[ 0.95324159]]\n"
     ]
    },
    {
     "name": "stdout",
     "output_type": "stream",
     "text": [
      "[[-55 -55 -55 -55 -59 -57 -59 -57 -59 -57 -57 -73 -73 -73 -73 -59 -60 -59\n  -85 -76]]\nX:  [[ 0.167089]]\nY:  [[ 0.92785192]]\n"
     ]
    },
    {
     "name": "stdout",
     "output_type": "stream",
     "text": [
      "[[-55 -55 -55 -55 -59 -58 -59 -58 -59 -58 -58 -73 -72 -73 -73 -59 -59 -59\n  -85 -75]]\nX:  [[ 0.13603862]]\nY:  [[ 0.95680326]]\n"
     ]
    },
    {
     "name": "stdout",
     "output_type": "stream",
     "text": [
      "[[-55 -55 -55 -55 -59 -57 -59 -57 -58 -58 -58 -73 -73 -73 -73 -58 -58 -60\n  -85 -77]]\nX:  [[ 0.18898478]]\nY:  [[ 0.91129243]]\n"
     ]
    }
   ],
   "source": [
    "for i in range(100):\n",
    "    cells = np.expand_dims(lab_loc.wifi.get_wifi_cells(lab_loc.profile, item='rssi'), axis=0)\n",
    "    print(cells)\n",
    "    \n",
    "    cells = scale_inputs(cells)\n",
    "    print('X: ', x_model.predict(cells))\n",
    "    print('Y: ', y_model.predict(cells))\n",
    "    sleep(0.5)"
   ]
  },
  {
   "cell_type": "code",
   "execution_count": null,
   "metadata": {},
   "outputs": [],
   "source": [
    ""
   ]
  }
 ],
 "metadata": {
  "kernelspec": {
   "display_name": "Python 2",
   "language": "python",
   "name": "python2"
  },
  "language_info": {
   "codemirror_mode": {
    "name": "ipython",
    "version": 2.0
   },
   "file_extension": ".py",
   "mimetype": "text/x-python",
   "name": "python",
   "nbconvert_exporter": "python",
   "pygments_lexer": "ipython2",
   "version": "2.7.6"
  }
 },
 "nbformat": 4,
 "nbformat_minor": 0
}