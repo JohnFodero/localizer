{
 "cells": [
  {
   "cell_type": "code",
   "execution_count": 7,
   "metadata": {
    "collapsed": true
   },
   "outputs": [],
   "source": [
    "%load_ext autoreload\n",
    "import os\n",
    "import csv\n",
    "import cv2\n",
    "%autoreload"
   ]
  },
  {
   "cell_type": "markdown",
   "metadata": {},
   "source": [
    "Load Data"
   ]
  },
  {
   "cell_type": "code",
   "execution_count": null,
   "metadata": {},
   "outputs": [],
   "source": [
    "def preprocess_image(image):\n",
    "    "
   ]
  },
  {
   "cell_type": "code",
   "execution_count": null,
   "metadata": {},
   "outputs": [],
   "source": [
    "def load_data(path, profile=None):\n",
    "    wifi = []   # (len, num_cells_in_profile)\n",
    "    mag = []    # (len, 2)\n",
    "    img = []    # (len, 2, imgx, imgy, imgd)\n",
    "    xy = []     # (len, 2)\n",
    "    train_test_split = 0.9\n",
    "    file_count = 0\n",
    "    if profile is not None:\n",
    "        for file_name in os.listdir(path):\n",
    "            if os.path.isfile(path + file_name):\n",
    "                with open(path + file_name, 'r') as f:\n",
    "                    reader = csv.reader(f)\n",
    "                    for row in reader:\n",
    "                        xy.append([float(row[0]), float(row[1])])\n",
    "                        mag.append([float(row[2]), float(row[3])])\n",
    "                        img1 = cv2.imread(row[5])\n",
    "                        img1 = preprocess_image(img1)\n",
    "                        img2 = cv2.imread(row[6])\n",
    "                        img2 = preprocess_image(img2)\n",
    "                        img.append([img1, img2])\n",
    "                        count = 0\n",
    "                        for addr in profile:\n",
    "                            for cell in row[7:]:\n",
    "                                mac, rssi = cell.split(' ')\n",
    "                                if addr == mac:\n",
    "                                    wifi.append(float(rssi))\n",
    "                                    break\n",
    "                            else:\n",
    "                                wifi.append(-100.0)\n",
    "            print('{} loaded'.format(file_name))\n",
    "            file_count += 1\n",
    "        print('Loaded {} files from {}'.format(file_count, path))\n",
    "        \n",
    "wifi, mag, images, y = load_data('../datasets/')"
   ]
  },
  {
   "cell_type": "markdown",
   "metadata": {},
   "source": [
    "Load Models"
   ]
  },
  {
   "cell_type": "code",
   "execution_count": null,
   "metadata": {},
   "outputs": [],
   "source": [
    ""
   ]
  },
  {
   "cell_type": "markdown",
   "metadata": {},
   "source": [
    "Train"
   ]
  },
  {
   "cell_type": "code",
   "execution_count": null,
   "metadata": {},
   "outputs": [],
   "source": [
    ""
   ]
  },
  {
   "cell_type": "markdown",
   "metadata": {},
   "source": [
    "Visualize"
   ]
  },
  {
   "cell_type": "code",
   "execution_count": null,
   "metadata": {},
   "outputs": [],
   "source": [
    ""
   ]
  }
 ],
 "metadata": {
  "kernelspec": {
   "display_name": "Python 2",
   "language": "python",
   "name": "python2"
  },
  "language_info": {
   "codemirror_mode": {
    "name": "ipython",
    "version": 2.0
   },
   "file_extension": ".py",
   "mimetype": "text/x-python",
   "name": "python",
   "nbconvert_exporter": "python",
   "pygments_lexer": "ipython2",
   "version": "2.7.6"
  }
 },
 "nbformat": 4,
 "nbformat_minor": 0
}